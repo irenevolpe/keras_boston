{
 "cells": [
  {
   "cell_type": "code",
   "execution_count": 1,
   "metadata": {
    "collapsed": false
   },
   "outputs": [
    {
     "name": "stderr",
     "output_type": "stream",
     "text": [
      "Using TensorFlow backend.\n"
     ]
    }
   ],
   "source": [
    "import keras\n",
    "import matplotlib.pyplot as plt\n",
    "%matplotlib inline"
   ]
  },
  {
   "cell_type": "code",
   "execution_count": 2,
   "metadata": {
    "collapsed": true
   },
   "outputs": [],
   "source": [
    "from keras.datasets import boston_housing\n",
    "\n",
    "(X_train, y_train), (X_test, y_test) = boston_housing.load_data()"
   ]
  },
  {
   "cell_type": "code",
   "execution_count": 4,
   "metadata": {
    "collapsed": false
   },
   "outputs": [
    {
     "name": "stdout",
     "output_type": "stream",
     "text": [
      "Training data (404, 13)\n",
      ".............................\n",
      ".............................\n",
      "Test data (102, 13)\n",
      ".............................\n",
      ".............................\n",
      "Training sample [  1.23247   0.        8.14      0.        0.538     6.142    91.7\n",
      "   3.9769    4.      307.       21.      396.9      18.72   ]\n",
      ".............................\n",
      ".............................\n",
      "Training target sample 15.2\n"
     ]
    }
   ],
   "source": [
    "print('Training data', X_train.shape)\n",
    "print('.............................')\n",
    "print('.............................')\n",
    "print('Test data',X_test.shape)\n",
    "print('.............................')\n",
    "print('.............................')\n",
    "print('Training sample',X_train[0])\n",
    "print('.............................')\n",
    "print('.............................')\n",
    "print('Training target sample',y_train[0])"
   ]
  },
  {
   "cell_type": "markdown",
   "metadata": {},
   "source": [
    "# normalize data"
   ]
  },
  {
   "cell_type": "code",
   "execution_count": 5,
   "metadata": {
    "collapsed": true
   },
   "outputs": [],
   "source": [
    "mean = X_train.mean(axis=0)\n",
    "X_train -= mean\n",
    "std = X_train.std(axis=0)\n",
    "X_train /= std\n",
    "\n",
    "X_test -= mean\n",
    "X_test /= std"
   ]
  },
  {
   "cell_type": "markdown",
   "metadata": {},
   "source": [
    "# build the first model"
   ]
  },
  {
   "cell_type": "code",
   "execution_count": 7,
   "metadata": {
    "collapsed": true
   },
   "outputs": [],
   "source": [
    "from keras import models\n",
    "from keras import layers\n",
    "\n",
    "model = models.Sequential()\n",
    "model.add(layers.Dense(64, activation='relu', input_shape=(X_train.shape[1],)))\n",
    "model.add(layers.Dense(64, activation='relu'))\n",
    "model.add(layers.Dense(1))"
   ]
  },
  {
   "cell_type": "markdown",
   "metadata": {},
   "source": [
    "# compile the first model"
   ]
  },
  {
   "cell_type": "code",
   "execution_count": 8,
   "metadata": {
    "collapsed": true
   },
   "outputs": [],
   "source": [
    "model.compile(optimizer='rmsprop',\n",
    "              loss='mse',\n",
    "              metrics=['mae'])"
   ]
  },
  {
   "cell_type": "markdown",
   "metadata": {},
   "source": [
    "# train the first model"
   ]
  },
  {
   "cell_type": "code",
   "execution_count": 9,
   "metadata": {
    "collapsed": false
   },
   "outputs": [
    {
     "name": "stdout",
     "output_type": "stream",
     "text": [
      "Train on 404 samples, validate on 102 samples\n",
      "Epoch 1/10\n",
      "404/404 [==============================] - 0s 512us/step - loss: 545.3802 - mean_absolute_error: 21.3426 - val_loss: 522.5277 - val_mean_absolute_error: 20.7950\b\b\b\b\b\b\b\b\b\b\b\b\b\b\b\b\b\b\b\b\b\b\b\b\b\b\b\b\b\b\b\b\b\b\b\b\n",
      "Epoch 2/10\n",
      "404/404 [==============================] - 0s 38us/step - loss: 457.3728 - mean_absolute_error: 19.0540 - val_loss: 431.5545 - val_mean_absolute_error: 18.4979\b\b\b\b\b\b\b\b\b\b\b\b\b\b\b\b\b\b\b\b\b\b\b\b\b\b\b\b\b\b\b\b\b\b\b\b\b\n",
      "Epoch 3/10\n",
      "404/404 [==============================] - 0s 41us/step - loss: 364.0664 - mean_absolute_error: 16.6103 - val_loss: 329.7441 - val_mean_absolute_error: 15.9626\b\b\b\b\b\b\b\b\b\b\b\b\b\b\b\b\b\b\b\b\b\b\b\b\b\b\b\b\b\b\b\b\b\b\b\b\b\n",
      "Epoch 4/10\n",
      "404/404 [==============================] - 0s 38us/step - loss: 266.4597 - mean_absolute_error: 13.9047 - val_loss: 229.9828 - val_mean_absolute_error: 13.1815\b\b\b\b\b\b\b\b\b\b\b\b\b\b\b\b\b\b\b\b\b\b\b\b\b\b\b\b\b\b\b\b\b\b\b\b\b\n",
      "Epoch 5/10\n",
      "404/404 [==============================] - 0s 39us/step - loss: 175.8388 - mean_absolute_error: 11.0733 - val_loss: 140.6674 - val_mean_absolute_error: 10.0042\b\b\b\b\b\b\b\b\b\b\b\b\b\b\b\b\b\b\b\b\b\b\b\b\b\b\b\b\b\b\b\b\b\b\b\n",
      "Epoch 6/10\n",
      "404/404 [==============================] - 0s 37us/step - loss: 104.4693 - mean_absolute_error: 8.1634 - val_loss: 83.9711 - val_mean_absolute_error: 7.6001\b\b\b\b\b\b\b\b\b\b\b\b\b\b\b\b\b\b\b\b\b\b\b\b\b\b\b\b\b\b\b\b\b\b\b\b\b\b\n",
      "Epoch 7/10\n",
      "404/404 [==============================] - 0s 36us/step - loss: 61.8023 - mean_absolute_error: 6.0107 - val_loss: 53.0744 - val_mean_absolute_error: 5.8642\b\b\b\b\b\b\b\b\b\b\b\b\b\b\b\b\b\b\b\b\b\b\b\b\b\b\b\b\b\b\b\b\b\b\b\b\b\n",
      "Epoch 8/10\n",
      "404/404 [==============================] - 0s 37us/step - loss: 42.4887 - mean_absolute_error: 4.7826 - val_loss: 40.3111 - val_mean_absolute_error: 4.9973\b\b\b\b\b\b\b\b\b\b\b\b\b\b\b\b\b\b\b\b\b\b\b\b\b\b\b\b\b\b\b\b\b\b\b\b\b\n",
      "Epoch 9/10\n",
      "404/404 [==============================] - 0s 37us/step - loss: 34.2349 - mean_absolute_error: 4.2149 - val_loss: 33.7594 - val_mean_absolute_error: 4.6174\b\b\b\b\b\b\b\b\b\b\b\b\b\b\b\b\b\b\b\b\b\b\b\b\b\b\b\b\b\b\b\b\b\b\b\b\b\n",
      "Epoch 10/10\n",
      "404/404 [==============================] - 0s 39us/step - loss: 28.9881 - mean_absolute_error: 3.8248 - val_loss: 28.7913 - val_mean_absolute_error: 4.3317\b\b\b\b\b\b\b\b\b\b\b\b\b\b\b\b\b\b\b\b\b\b\b\b\b\b\b\b\b\b\b\b\b\b\b\b\b\n"
     ]
    },
    {
     "data": {
      "text/plain": [
       "<keras.callbacks.History at 0x127c53278>"
      ]
     },
     "execution_count": 9,
     "metadata": {},
     "output_type": "execute_result"
    }
   ],
   "source": [
    "model.fit(X_train, y_train,\n",
    "         epochs=10,\n",
    "         verbose=1,\n",
    "         batch_size=32,\n",
    "         validation_data=(X_test,y_test))"
   ]
  },
  {
   "cell_type": "markdown",
   "metadata": {},
   "source": [
    "# evaluate the first model on test data"
   ]
  },
  {
   "cell_type": "markdown",
   "metadata": {},
   "source": [
    "loss is 28, mean absolute error is 4"
   ]
  },
  {
   "cell_type": "code",
   "execution_count": 10,
   "metadata": {
    "collapsed": false
   },
   "outputs": [
    {
     "name": "stdout",
     "output_type": "stream",
     "text": [
      "102/102 [==============================] - 0s 42us/step\b\b\b\b\b\b\b\b\b\b\b\b\b\b\b\b\b\b\b\b\b\b\b\b\b\b\b\b\b\b\b\b\b\b\b\b\b\b\b\b\b\b\b\b\b\n"
     ]
    },
    {
     "data": {
      "text/plain": [
       "[28.79133389042873, 4.331702185612099]"
      ]
     },
     "execution_count": 10,
     "metadata": {},
     "output_type": "execute_result"
    }
   ],
   "source": [
    "test_score = model.evaluate(X_test, y_test)\n",
    "test_score"
   ]
  },
  {
   "cell_type": "markdown",
   "metadata": {},
   "source": [
    "# predict test outcome"
   ]
  },
  {
   "cell_type": "code",
   "execution_count": 44,
   "metadata": {
    "collapsed": false
   },
   "outputs": [
    {
     "data": {
      "text/plain": [
       "array([[14.030382 ],\n",
       "       [13.73992  ],\n",
       "       [20.932552 ],\n",
       "       [30.152502 ],\n",
       "       [26.351465 ],\n",
       "       [11.256635 ],\n",
       "       [25.47819  ],\n",
       "       [22.365076 ],\n",
       "       [25.066626 ],\n",
       "       [15.458764 ],\n",
       "       [15.77365  ],\n",
       "       [18.432196 ],\n",
       "       [18.739878 ],\n",
       "       [41.028324 ],\n",
       "       [14.336159 ],\n",
       "       [19.306326 ],\n",
       "       [23.894558 ],\n",
       "       [18.298904 ],\n",
       "       [14.271746 ],\n",
       "       [24.313486 ],\n",
       "       [12.618127 ],\n",
       "       [14.538958 ],\n",
       "       [18.455086 ],\n",
       "       [14.733656 ],\n",
       "       [28.848059 ],\n",
       "       [15.073519 ],\n",
       "       [28.105806 ],\n",
       "       [38.25273  ],\n",
       "       [14.078735 ],\n",
       "       [19.957747 ],\n",
       "       [14.633256 ],\n",
       "       [15.41044  ],\n",
       "       [32.66088  ],\n",
       "       [22.553564 ],\n",
       "       [12.689157 ],\n",
       "       [12.369734 ],\n",
       "       [18.691595 ],\n",
       "       [15.6059885],\n",
       "       [18.235922 ],\n",
       "       [31.06531  ],\n",
       "       [33.905098 ],\n",
       "       [28.628094 ],\n",
       "       [15.694416 ],\n",
       "       [31.657888 ],\n",
       "       [35.224373 ],\n",
       "       [26.921793 ],\n",
       "       [25.099138 ],\n",
       "       [15.945166 ],\n",
       "       [17.859364 ],\n",
       "       [21.394436 ],\n",
       "       [37.137825 ],\n",
       "       [20.395578 ],\n",
       "       [13.832581 ],\n",
       "       [15.407947 ],\n",
       "       [30.454023 ],\n",
       "       [29.49267  ],\n",
       "       [15.923175 ],\n",
       "       [45.09824  ],\n",
       "       [32.827766 ],\n",
       "       [29.118774 ],\n",
       "       [17.263863 ],\n",
       "       [16.824448 ],\n",
       "       [15.600599 ],\n",
       "       [12.790376 ],\n",
       "       [22.667347 ],\n",
       "       [30.391132 ],\n",
       "       [14.961026 ],\n",
       "       [25.072828 ],\n",
       "       [14.032871 ],\n",
       "       [14.180191 ],\n",
       "       [24.929405 ],\n",
       "       [27.558456 ],\n",
       "       [16.211235 ],\n",
       "       [15.183642 ],\n",
       "       [22.754442 ],\n",
       "       [21.035387 ],\n",
       "       [19.557276 ],\n",
       "       [21.85797  ],\n",
       "       [35.69084  ],\n",
       "       [13.035249 ],\n",
       "       [17.280233 ],\n",
       "       [39.463333 ],\n",
       "       [16.181673 ],\n",
       "       [16.308714 ],\n",
       "       [18.343039 ],\n",
       "       [20.27455  ],\n",
       "       [15.870454 ],\n",
       "       [26.537575 ],\n",
       "       [24.146872 ],\n",
       "       [19.36044  ],\n",
       "       [23.202963 ],\n",
       "       [24.457483 ],\n",
       "       [25.937456 ],\n",
       "       [36.532345 ],\n",
       "       [34.695374 ],\n",
       "       [22.931082 ],\n",
       "       [38.396286 ],\n",
       "       [32.11561  ],\n",
       "       [19.51114  ],\n",
       "       [40.195103 ],\n",
       "       [29.448526 ],\n",
       "       [18.8526   ]], dtype=float32)"
      ]
     },
     "execution_count": 44,
     "metadata": {},
     "output_type": "execute_result"
    }
   ],
   "source": [
    "y_pred = model.predict(X_test,\n",
    "                       batch_size=2,\n",
    "                       verbose=0)"
   ]
  },
  {
   "cell_type": "markdown",
   "metadata": {},
   "source": [
    "# plot results of first model predicted values vs actual values"
   ]
  },
  {
   "cell_type": "code",
   "execution_count": 14,
   "metadata": {
    "collapsed": false
   },
   "outputs": [
    {
     "data": {
      "text/plain": [
       "<matplotlib.text.Text at 0x1280334a8>"
      ]
     },
     "execution_count": 14,
     "metadata": {},
     "output_type": "execute_result"
    },
    {
     "data": {
      "image/png": "[encoded data removed]",
      "text/plain": [
       "<matplotlib.figure.Figure at 0x127fac0f0>"
      ]
     },
     "metadata": {},
     "output_type": "display_data"
    }
   ],
   "source": [
    "plt.scatter(y_test, y_pred)\n",
    "plt.xlabel(\"Prices: $Y_i$\")\n",
    "plt.ylabel(\"Predicted prices: $\\hat{Y}_i$\")\n",
    "plt.title(\"Prices vs Predicted prices: $Y_i$ vs $\\hat{Y}_i$\")"
   ]
  },
  {
   "cell_type": "code",
   "execution_count": 36,
   "metadata": {
    "collapsed": false
   },
   "outputs": [],
   "source": [
    "import numpy as np\n",
    "y_pred_reshaped = np.reshape(y_pred, 102)"
   ]
  },
  {
   "cell_type": "code",
   "execution_count": 43,
   "metadata": {
    "collapsed": false
   },
   "outputs": [
    {
     "data": {
      "text/html": [
       "<div>\n",
       "<table border=\"1\" class=\"dataframe\">\n",
       "  <thead>\n",
       "    <tr style=\"text-align: right;\">\n",
       "      <th></th>\n",
       "      <th>mae</th>\n",
       "      <th>y_pred</th>\n",
       "      <th>y_test</th>\n",
       "    </tr>\n",
       "  </thead>\n",
       "  <tbody>\n",
       "    <tr>\n",
       "      <th>0</th>\n",
       "      <td>-0.066965</td>\n",
       "      <td>14.030382</td>\n",
       "      <td>7.2</td>\n",
       "    </tr>\n",
       "    <tr>\n",
       "      <th>1</th>\n",
       "      <td>0.049609</td>\n",
       "      <td>13.739920</td>\n",
       "      <td>18.8</td>\n",
       "    </tr>\n",
       "    <tr>\n",
       "      <th>2</th>\n",
       "      <td>-0.018947</td>\n",
       "      <td>20.932552</td>\n",
       "      <td>19.0</td>\n",
       "    </tr>\n",
       "    <tr>\n",
       "      <th>3</th>\n",
       "      <td>-0.030907</td>\n",
       "      <td>30.152502</td>\n",
       "      <td>27.0</td>\n",
       "    </tr>\n",
       "    <tr>\n",
       "      <th>4</th>\n",
       "      <td>-0.040701</td>\n",
       "      <td>26.351465</td>\n",
       "      <td>22.2</td>\n",
       "    </tr>\n",
       "    <tr>\n",
       "      <th>5</th>\n",
       "      <td>0.129837</td>\n",
       "      <td>11.256635</td>\n",
       "      <td>24.5</td>\n",
       "    </tr>\n",
       "    <tr>\n",
       "      <th>6</th>\n",
       "      <td>0.056096</td>\n",
       "      <td>25.478189</td>\n",
       "      <td>31.2</td>\n",
       "    </tr>\n",
       "    <tr>\n",
       "      <th>7</th>\n",
       "      <td>0.005244</td>\n",
       "      <td>22.365076</td>\n",
       "      <td>22.9</td>\n",
       "    </tr>\n",
       "    <tr>\n",
       "      <th>8</th>\n",
       "      <td>-0.044771</td>\n",
       "      <td>25.066626</td>\n",
       "      <td>20.5</td>\n",
       "    </tr>\n",
       "    <tr>\n",
       "      <th>9</th>\n",
       "      <td>0.075894</td>\n",
       "      <td>15.458764</td>\n",
       "      <td>23.2</td>\n",
       "    </tr>\n",
       "  </tbody>\n",
       "</table>\n",
       "</div>"
      ],
      "text/plain": [
       "        mae     y_pred  y_test\n",
       "0 -0.066965  14.030382     7.2\n",
       "1  0.049609  13.739920    18.8\n",
       "2 -0.018947  20.932552    19.0\n",
       "3 -0.030907  30.152502    27.0\n",
       "4 -0.040701  26.351465    22.2\n",
       "5  0.129837  11.256635    24.5\n",
       "6  0.056096  25.478189    31.2\n",
       "7  0.005244  22.365076    22.9\n",
       "8 -0.044771  25.066626    20.5\n",
       "9  0.075894  15.458764    23.2"
      ]
     },
     "execution_count": 43,
     "metadata": {},
     "output_type": "execute_result"
    }
   ],
   "source": [
    "import pandas as pd\n",
    "df = pd.DataFrame({'y_test':y_test, 'y_pred':y_pred_reshaped,'mae':(y_test-y_pred_reshaped)/len(y_test)})\n",
    "df.iloc[0:10,:]"
   ]
  },
  {
   "cell_type": "code",
   "execution_count": null,
   "metadata": {
    "collapsed": true
   },
   "outputs": [],
   "source": []
  }
 ],
 "metadata": {
  "kernelspec": {
   "display_name": "Python 3",
   "language": "python",
   "name": "python3"
  },
  "language_info": {
   "codemirror_mode": {
    "name": "ipython",
    "version": 3
   },
   "file_extension": ".py",
   "mimetype": "text/x-python",
   "name": "python",
   "nbconvert_exporter": "python",
   "pygments_lexer": "ipython3",
   "version": "3.6.7"
  }
 },
 "nbformat": 4,
 "nbformat_minor": 2
}
